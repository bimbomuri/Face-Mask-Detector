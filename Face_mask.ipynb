{
  "nbformat": 4,
  "nbformat_minor": 0,
  "metadata": {
    "colab": {
      "name": "Face_mask.ipynb",
      "provenance": [],
      "collapsed_sections": [],
      "include_colab_link": true
    },
    "kernelspec": {
      "name": "python3",
      "display_name": "Python 3"
    }
  },
  "cells": [
    {
      "cell_type": "markdown",
      "metadata": {
        "id": "view-in-github",
        "colab_type": "text"
      },
      "source": [
        "<a href=\"https://colab.research.google.com/github/bimbomuri/FaceMaskDetector/blob/master/Face_mask.ipynb\" target=\"_parent\"><img src=\"https://colab.research.google.com/assets/colab-badge.svg\" alt=\"Open In Colab\"/></a>"
      ]
    },
    {
      "cell_type": "code",
      "metadata": {
        "id": "uE-39mFIYjqM",
        "colab_type": "code",
        "outputId": "6b757b71-f693-4583-86a7-42feeedb6789",
        "colab": {
          "base_uri": "https://localhost:8080/",
          "height": 34
        }
      },
      "source": [
        "import numpy as np\n",
        "from glob import glob\n",
        "import os\n",
        "from sklearn.preprocessing import LabelBinarizer\n",
        "from sklearn.model_selection import train_test_split\n",
        "from keras.optimizers import SGD"
      ],
      "execution_count": 0,
      "outputs": [
        {
          "output_type": "stream",
          "text": [
            "Using TensorFlow backend.\n"
          ],
          "name": "stderr"
        }
      ]
    },
    {
      "cell_type": "code",
      "metadata": {
        "id": "CFW5SEikdxdd",
        "colab_type": "code",
        "colab": {}
      },
      "source": [
        "import cv2\n",
        "from PIL import ImageFile\n",
        "import matplotlib.pyplot as plt\n",
        "%matplotlib inline\n",
        "import keras\n",
        "from keras.models import Sequential, Model\n",
        "from keras.layers import Dense, Dropout, Activation, Flatten,BatchNormalization\n",
        "from keras.layers import Convolution2D, MaxPooling2D\n"
      ],
      "execution_count": 0,
      "outputs": []
    },
    {
      "cell_type": "code",
      "metadata": {
        "id": "RiR4dz1CibBk",
        "colab_type": "code",
        "outputId": "2976e8fa-7200-4e52-9adc-7c233f743b80",
        "colab": {
          "base_uri": "https://localhost:8080/",
          "height": 34
        }
      },
      "source": [
        "from google.colab import drive\n",
        "drive.mount('/content/drive')"
      ],
      "execution_count": 0,
      "outputs": [
        {
          "output_type": "stream",
          "text": [
            "Drive already mounted at /content/drive; to attempt to forcibly remount, call drive.mount(\"/content/drive\", force_remount=True).\n"
          ],
          "name": "stdout"
        }
      ]
    },
    {
      "cell_type": "code",
      "metadata": {
        "id": "D5OBsQwhkIlE",
        "colab_type": "code",
        "outputId": "b8e6d9a6-a976-4ac1-f52b-6f433950d15b",
        "colab": {
          "base_uri": "https://localhost:8080/",
          "height": 34
        }
      },
      "source": [
        "\n",
        "imagepath = list(glob(\"/content/drive/My Drive/Data/*/*\"))\n",
        "\n",
        "# print number of images in the dataset\n",
        "print('There are %d total images.' % len(imagepath))\n"
      ],
      "execution_count": 0,
      "outputs": [
        {
          "output_type": "stream",
          "text": [
            "There are 1376 total images.\n"
          ],
          "name": "stdout"
        }
      ]
    },
    {
      "cell_type": "code",
      "metadata": {
        "id": "aB4e9EGopwz4",
        "colab_type": "code",
        "colab": {}
      },
      "source": [
        "data = []\n",
        "labels = []"
      ],
      "execution_count": 0,
      "outputs": []
    },
    {
      "cell_type": "code",
      "metadata": {
        "id": "Dmnd0t47fM7n",
        "colab_type": "code",
        "colab": {}
      },
      "source": [
        "# loop over the image paths\n",
        "for img in imagepath:\n",
        "  # extract the class label from the filename\n",
        "  label = img.split(os.path.sep)[-2]\n",
        "  # load the input image (224x224) and preprocess it\n",
        "  image = cv2.imread(img)\n",
        "  image = cv2.resize(image, (224,224))/255.0\n",
        " # update the data and labels lists, respectively\n",
        "  data.append(image)\n",
        "  labels.append(label)\n",
        "\n"
      ],
      "execution_count": 0,
      "outputs": []
    },
    {
      "cell_type": "code",
      "metadata": {
        "id": "iiKFUZ0bjyb3",
        "colab_type": "code",
        "colab": {}
      },
      "source": [
        "# convert the data and labels to NumPy arrays\n",
        "data = np.array(data,dtype='float32')\n",
        "labels = np.array(labels)"
      ],
      "execution_count": 0,
      "outputs": []
    },
    {
      "cell_type": "code",
      "metadata": {
        "id": "xBla--QOzgnN",
        "colab_type": "code",
        "colab": {}
      },
      "source": [
        "# perform one-hot encoding on the labels\n",
        "lb = LabelBinarizer()\n",
        "labels = lb.fit_transform(labels)\n",
        "labels = keras.utils.to_categorical(labels)"
      ],
      "execution_count": 0,
      "outputs": []
    },
    {
      "cell_type": "code",
      "metadata": {
        "id": "Xp1COwaH1bQr",
        "colab_type": "code",
        "colab": {}
      },
      "source": [
        "X_train, X_test, y_train, y_test = train_test_split(data,labels, test_size=0.25,random_state=101)"
      ],
      "execution_count": 0,
      "outputs": []
    },
    {
      "cell_type": "code",
      "metadata": {
        "id": "6d_E48Dk2DgZ",
        "colab_type": "code",
        "colab": {}
      },
      "source": [
        "X_valid, X_test, y_valid, y_test = train_test_split(data, labels, test_size=0.5,random_state=101)"
      ],
      "execution_count": 0,
      "outputs": []
    },
    {
      "cell_type": "code",
      "metadata": {
        "id": "pgGReX7K5nQ9",
        "colab_type": "code",
        "outputId": "b770207c-f4eb-4ca6-cc61-81dfc5b25958",
        "colab": {
          "base_uri": "https://localhost:8080/",
          "height": 34
        }
      },
      "source": [
        "X_train.shape"
      ],
      "execution_count": 0,
      "outputs": [
        {
          "output_type": "execute_result",
          "data": {
            "text/plain": [
              "(1032, 224, 224, 3)"
            ]
          },
          "metadata": {
            "tags": []
          },
          "execution_count": 11
        }
      ]
    },
    {
      "cell_type": "code",
      "metadata": {
        "id": "16bdmKc25wd_",
        "colab_type": "code",
        "outputId": "c500c30c-ba63-44a6-a939-b270883c82ba",
        "colab": {
          "base_uri": "https://localhost:8080/",
          "height": 34
        }
      },
      "source": [
        "X_test.shape"
      ],
      "execution_count": 0,
      "outputs": [
        {
          "output_type": "execute_result",
          "data": {
            "text/plain": [
              "(688, 224, 224, 3)"
            ]
          },
          "metadata": {
            "tags": []
          },
          "execution_count": 12
        }
      ]
    },
    {
      "cell_type": "code",
      "metadata": {
        "id": "0_TrFEUJ5zM7",
        "colab_type": "code",
        "outputId": "fd95dc66-c7f9-476d-d7e3-a70e157e82ef",
        "colab": {
          "base_uri": "https://localhost:8080/",
          "height": 34
        }
      },
      "source": [
        "X_valid.shape"
      ],
      "execution_count": 0,
      "outputs": [
        {
          "output_type": "execute_result",
          "data": {
            "text/plain": [
              "(688, 224, 224, 3)"
            ]
          },
          "metadata": {
            "tags": []
          },
          "execution_count": 13
        }
      ]
    },
    {
      "cell_type": "code",
      "metadata": {
        "id": "QWHkJeb4l_if",
        "colab_type": "code",
        "colab": {}
      },
      "source": [
        "from keras.applications.resnet50 import ResNet50\n",
        "\n",
        "from keras.layers import GlobalAveragePooling2D\n",
        "from keras.applications import InceptionV3\n",
        "\n",
        "base_model = InceptionV3(weights='imagenet', include_top=False)\n",
        "\n",
        "FMModel = base_model.output\n",
        "FMModel = GlobalAveragePooling2D()(FMModel)\n",
        "# let's add a fully-connected layer\n",
        "FMModel = Dense(128, activation='relu')(FMModel)\n",
        "# and a logistic layer -- let's say we have 200 classes\n",
        "FMModel = Dropout(0.5)(FMModel)\n",
        "FMModel = Dense(2, activation='softmax')(FMModel)\n",
        "\n",
        "# this is the model we will train\n",
        "model = Model(inputs=base_model.input, outputs=FMModel)\n",
        "\n",
        "# first: train only the top layers (which were randomly initialized)\n",
        "# i.e. freeze all convolutional InceptionV3 layers\n",
        "for layer in base_model.layers:\n",
        "    layer.trainable = False\n",
        "\n"
      ],
      "execution_count": 0,
      "outputs": []
    },
    {
      "cell_type": "code",
      "metadata": {
        "id": "NHqAEuxA7sTw",
        "colab_type": "code",
        "colab": {}
      },
      "source": [
        "FMModel = model"
      ],
      "execution_count": 0,
      "outputs": []
    },
    {
      "cell_type": "code",
      "metadata": {
        "id": "jYY2_gqX-Pm-",
        "colab_type": "code",
        "colab": {}
      },
      "source": [
        "sgd = SGD(lr=0.01, decay=1e-6, momentum=0.9, nesterov=True)\n",
        "model.compile(loss='categorical_crossentropy',\n",
        "                           optimizer=sgd,\n",
        "                           metrics=['accuracy'])"
      ],
      "execution_count": 0,
      "outputs": []
    },
    {
      "cell_type": "code",
      "metadata": {
        "id": "hhze3w4I85qi",
        "colab_type": "code",
        "outputId": "fb7d3642-de97-4063-d2b2-0c6ab8965f4a",
        "colab": {
          "base_uri": "https://localhost:8080/",
          "height": 763
        }
      },
      "source": [
        "model.fit(X_train, y_train, batch_size=32,\n",
        "                           epochs=20,\n",
        "                           validation_data=(X_valid,y_valid),shuffle=True)"
      ],
      "execution_count": 0,
      "outputs": [
        {
          "output_type": "stream",
          "text": [
            "Train on 1032 samples, validate on 688 samples\n",
            "Epoch 1/20\n",
            "1032/1032 [==============================] - 204s 198ms/step - loss: 0.4116 - accuracy: 0.7878 - val_loss: 0.0770 - val_accuracy: 0.9782\n",
            "Epoch 2/20\n",
            "1032/1032 [==============================] - 200s 194ms/step - loss: 0.1542 - accuracy: 0.9448 - val_loss: 0.1025 - val_accuracy: 0.9695\n",
            "Epoch 3/20\n",
            "1032/1032 [==============================] - 203s 196ms/step - loss: 0.1301 - accuracy: 0.9496 - val_loss: 0.0685 - val_accuracy: 0.9797\n",
            "Epoch 4/20\n",
            "1032/1032 [==============================] - 200s 193ms/step - loss: 0.1068 - accuracy: 0.9622 - val_loss: 0.0653 - val_accuracy: 0.9826\n",
            "Epoch 5/20\n",
            "1032/1032 [==============================] - 200s 194ms/step - loss: 0.1018 - accuracy: 0.9651 - val_loss: 0.0558 - val_accuracy: 0.9855\n",
            "Epoch 6/20\n",
            "1032/1032 [==============================] - 200s 193ms/step - loss: 0.0750 - accuracy: 0.9690 - val_loss: 0.0768 - val_accuracy: 0.9840\n",
            "Epoch 7/20\n",
            "1032/1032 [==============================] - 200s 194ms/step - loss: 0.0724 - accuracy: 0.9690 - val_loss: 0.0874 - val_accuracy: 0.9826\n",
            "Epoch 8/20\n",
            "1032/1032 [==============================] - 200s 194ms/step - loss: 0.0645 - accuracy: 0.9748 - val_loss: 0.1407 - val_accuracy: 0.9738\n",
            "Epoch 9/20\n",
            "1032/1032 [==============================] - 203s 196ms/step - loss: 0.0635 - accuracy: 0.9738 - val_loss: 0.0683 - val_accuracy: 0.9855\n",
            "Epoch 10/20\n",
            "1032/1032 [==============================] - 201s 195ms/step - loss: 0.0422 - accuracy: 0.9855 - val_loss: 0.0737 - val_accuracy: 0.9869\n",
            "Epoch 11/20\n",
            "1032/1032 [==============================] - 202s 195ms/step - loss: 0.0609 - accuracy: 0.9738 - val_loss: 0.2743 - val_accuracy: 0.9535\n",
            "Epoch 12/20\n",
            "1032/1032 [==============================] - 205s 199ms/step - loss: 0.0719 - accuracy: 0.9729 - val_loss: 0.0747 - val_accuracy: 0.9855\n",
            "Epoch 13/20\n",
            "1032/1032 [==============================] - 201s 195ms/step - loss: 0.0450 - accuracy: 0.9874 - val_loss: 0.1384 - val_accuracy: 0.9767\n",
            "Epoch 14/20\n",
            "1032/1032 [==============================] - 198s 192ms/step - loss: 0.0639 - accuracy: 0.9777 - val_loss: 0.0815 - val_accuracy: 0.9869\n",
            "Epoch 15/20\n",
            "1032/1032 [==============================] - 200s 194ms/step - loss: 0.0609 - accuracy: 0.9816 - val_loss: 0.0667 - val_accuracy: 0.9884\n",
            "Epoch 16/20\n",
            "1032/1032 [==============================] - 197s 191ms/step - loss: 0.0402 - accuracy: 0.9903 - val_loss: 0.0730 - val_accuracy: 0.9898\n",
            "Epoch 17/20\n",
            "1032/1032 [==============================] - 196s 190ms/step - loss: 0.0352 - accuracy: 0.9903 - val_loss: 0.0769 - val_accuracy: 0.9884\n",
            "Epoch 18/20\n",
            "1032/1032 [==============================] - 199s 193ms/step - loss: 0.0620 - accuracy: 0.9777 - val_loss: 0.0651 - val_accuracy: 0.9898\n",
            "Epoch 19/20\n",
            "1032/1032 [==============================] - 196s 190ms/step - loss: 0.0330 - accuracy: 0.9893 - val_loss: 0.0752 - val_accuracy: 0.9869\n",
            "Epoch 20/20\n",
            "1032/1032 [==============================] - 196s 190ms/step - loss: 0.0592 - accuracy: 0.9777 - val_loss: 0.0666 - val_accuracy: 0.9898\n"
          ],
          "name": "stdout"
        },
        {
          "output_type": "execute_result",
          "data": {
            "text/plain": [
              "<keras.callbacks.callbacks.History at 0x7f1c94f00dd8>"
            ]
          },
          "metadata": {
            "tags": []
          },
          "execution_count": 17
        }
      ]
    },
    {
      "cell_type": "code",
      "metadata": {
        "id": "Q-n-oJ9C-CP3",
        "colab_type": "code",
        "colab": {}
      },
      "source": [
        "y_pred=model.predict(X_test)"
      ],
      "execution_count": 0,
      "outputs": []
    },
    {
      "cell_type": "code",
      "metadata": {
        "id": "4RFw4WUGnEKD",
        "colab_type": "code",
        "colab": {}
      },
      "source": [
        "y_pred = y_pred.argmax(axis=1) "
      ],
      "execution_count": 0,
      "outputs": []
    },
    {
      "cell_type": "code",
      "metadata": {
        "id": "mZRvSMWQmFIn",
        "colab_type": "code",
        "colab": {}
      },
      "source": [
        "from sklearn.metrics import classification_report,accuracy_score"
      ],
      "execution_count": 0,
      "outputs": []
    },
    {
      "cell_type": "code",
      "metadata": {
        "id": "KTYAOetnmaRb",
        "colab_type": "code",
        "outputId": "a0e3600d-8e34-45a8-9d34-3955957a59ca",
        "colab": {
          "base_uri": "https://localhost:8080/",
          "height": 176
        }
      },
      "source": [
        "print(classification_report(y_test.argmax(axis=1), y_pred))"
      ],
      "execution_count": 0,
      "outputs": [
        {
          "output_type": "stream",
          "text": [
            "              precision    recall  f1-score   support\n",
            "\n",
            "           0       1.00      0.99      0.99       348\n",
            "           1       0.99      1.00      0.99       340\n",
            "\n",
            "    accuracy                           0.99       688\n",
            "   macro avg       0.99      0.99      0.99       688\n",
            "weighted avg       0.99      0.99      0.99       688\n",
            "\n"
          ],
          "name": "stdout"
        }
      ]
    },
    {
      "cell_type": "code",
      "metadata": {
        "colab_type": "code",
        "id": "pypt411JoxAQ",
        "outputId": "48565afc-3839-4a58-ccc1-cf4ca4838a29",
        "colab": {
          "base_uri": "https://localhost:8080/",
          "height": 34
        }
      },
      "source": [
        "print(accuracy_score(y_test.argmax(axis=1), y_pred))"
      ],
      "execution_count": 0,
      "outputs": [
        {
          "output_type": "stream",
          "text": [
            "0.9927325581395349\n"
          ],
          "name": "stdout"
        }
      ]
    },
    {
      "cell_type": "code",
      "metadata": {
        "id": "Ht1Xwco_G7rQ",
        "colab_type": "code",
        "colab": {}
      },
      "source": [
        ""
      ],
      "execution_count": 0,
      "outputs": []
    }
  ]
}